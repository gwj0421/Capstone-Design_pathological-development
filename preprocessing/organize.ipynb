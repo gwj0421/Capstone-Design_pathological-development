{
 "cells": [
  {
   "cell_type": "code",
   "execution_count": 2,
   "metadata": {},
   "outputs": [],
   "source": [
    "# OpenCV 패키지 사용\n",
    "# \n",
    "import cv2\n",
    "import matplotlib.pyplot as plt  # 시각화 도구\n",
    "import numpy as np\n",
    "from PIL import Image\n",
    "import tqdm\n",
    "import matplotlib.pyplot as plt\n",
    "\n",
    "import os\n",
    "import glob"
   ]
  },
  {
   "cell_type": "code",
   "execution_count": 3,
   "metadata": {},
   "outputs": [
    {
     "name": "stdout",
     "output_type": "stream",
     "text": [
      "5183\n",
      "5183\n"
     ]
    }
   ],
   "source": [
    "filename= '0552'\n",
    "workspace='D:/Codes/testing/Development-of-histologic-and-pathological-photographic-intellectualization-analysis-system/test'\n",
    "dataset=os.path.join(workspace,'dataset')\n",
    "\n",
    "crop_img_list=glob.glob(os.path.join(dataset,f'Image_crop/{filename}_crop')+'/*.jpg')\n",
    "label_img_list=glob.glob(os.path.join(dataset,f'Image_labeling/{filename}_labeling')+'/*.jpg')\n",
    "\n",
    "target1=os.path.join(dataset,'crop_imgs')\n",
    "target2=os.path.join(dataset,'label_imgs')\n",
    "print(len(crop_img_list))\n",
    "print(len(label_img_list))"
   ]
  },
  {
   "cell_type": "code",
   "execution_count": 4,
   "metadata": {},
   "outputs": [
    {
     "data": {
      "text/plain": [
       "'00101.jpg'"
      ]
     },
     "execution_count": 4,
     "metadata": {},
     "output_type": "execute_result"
    }
   ],
   "source": [
    "os.path.basename(crop_img_list[100])"
   ]
  },
  {
   "cell_type": "code",
   "execution_count": 7,
   "metadata": {},
   "outputs": [
    {
     "data": {
      "image/png": "[encoded data removed]",
      "text/plain": [
       "<Figure size 1152x576 with 1 Axes>"
      ]
     },
     "metadata": {
      "needs_background": "light"
     },
     "output_type": "display_data"
    },
    {
     "name": "stdout",
     "output_type": "stream",
     "text": [
      "4.273059844970703\n"
     ]
    }
   ],
   "source": [
    "test_image=cv2.imread(label_img_list[407])\n",
    "plt.figure(figsize=(16,8))\n",
    "plt.subplot(111)\n",
    "plt.imshow(test_image)\n",
    "plt.show()\n",
    "print(np.mean(test_image))"
   ]
  },
  {
   "cell_type": "code",
   "execution_count": 31,
   "metadata": {},
   "outputs": [],
   "source": [
    "for crop_path,label_path in zip(crop_img_list,label_img_list):\n",
    "    label_img=cv2.imread(label_path)\n",
    "    if np.mean(label_img)>=1:\n",
    "        crop_img=cv2.imread(crop_path)\n",
    "        bsname=os.path.basename(label_path)\n",
    "        cv2.imwrite(f'{target1}/{bsname}',crop_img)\n",
    "        cv2.imwrite(f'{target2}/{bsname}',label_img)"
   ]
  },
  {
   "cell_type": "code",
   "execution_count": 18,
   "metadata": {},
   "outputs": [],
   "source": [
    "def The_Gleaners(crop_path,label_path,target1,target2,cnt):\n",
    "    for crop_path,label_path in tqdm.tqdm(zip(crop_img_list,label_img_list),desc=\"Test \",mininterval=0.01):\n",
    "        label_img=cv2.imread(label_path)\n",
    "        if np.mean(label_img)>=1:\n",
    "            crop_img=cv2.imread(crop_path)\n",
    "            bsname=os.path.basename(label_path)\n",
    "            cnt+=1\n",
    "            cv2.imwrite(f'{target1}/%05d.jpg' %cnt ,crop_img)\n",
    "            cv2.imwrite(f'{target2}/%05d.jpg' %cnt ,label_img)"
   ]
  },
  {
   "cell_type": "code",
   "execution_count": 19,
   "metadata": {},
   "outputs": [
    {
     "name": "stdout",
     "output_type": "stream",
     "text": [
      "0552 이미지\n"
     ]
    },
    {
     "name": "stderr",
     "output_type": "stream",
     "text": [
      "Test : 5183it [00:57, 90.55it/s] \n"
     ]
    },
    {
     "name": "stdout",
     "output_type": "stream",
     "text": [
      "0556 이미지\n"
     ]
    },
    {
     "name": "stderr",
     "output_type": "stream",
     "text": [
      "Test : 1056it [00:11, 92.57it/s] \n"
     ]
    },
    {
     "name": "stdout",
     "output_type": "stream",
     "text": [
      "1624 이미지\n"
     ]
    },
    {
     "name": "stderr",
     "output_type": "stream",
     "text": [
      "Test : 1188it [00:24, 48.21it/s] \n"
     ]
    },
    {
     "name": "stdout",
     "output_type": "stream",
     "text": [
      "2415 이미지\n"
     ]
    },
    {
     "name": "stderr",
     "output_type": "stream",
     "text": [
      "Test : 1950it [00:13, 149.16it/s]\n"
     ]
    },
    {
     "name": "stdout",
     "output_type": "stream",
     "text": [
      "3904 이미지\n"
     ]
    },
    {
     "name": "stderr",
     "output_type": "stream",
     "text": [
      "Test : 1720it [00:12, 135.21it/s]\n"
     ]
    },
    {
     "name": "stdout",
     "output_type": "stream",
     "text": [
      "3934 이미지\n"
     ]
    },
    {
     "name": "stderr",
     "output_type": "stream",
     "text": [
      "Test : 6080it [00:41, 145.49it/s]\n"
     ]
    },
    {
     "name": "stdout",
     "output_type": "stream",
     "text": [
      "4116 이미지\n"
     ]
    },
    {
     "name": "stderr",
     "output_type": "stream",
     "text": [
      "Test : 14450it [01:11, 202.19it/s]\n"
     ]
    },
    {
     "name": "stdout",
     "output_type": "stream",
     "text": [
      "5155 이미지\n"
     ]
    },
    {
     "name": "stderr",
     "output_type": "stream",
     "text": [
      "Test : 5934it [00:48, 123.25it/s]\n"
     ]
    },
    {
     "name": "stdout",
     "output_type": "stream",
     "text": [
      "5303 이미지\n"
     ]
    },
    {
     "name": "stderr",
     "output_type": "stream",
     "text": [
      "Test : 1368it [00:10, 131.04it/s]\n"
     ]
    },
    {
     "name": "stdout",
     "output_type": "stream",
     "text": [
      "5901 이미지\n"
     ]
    },
    {
     "name": "stderr",
     "output_type": "stream",
     "text": [
      "Test : 19200it [01:28, 216.22it/s]\n"
     ]
    }
   ],
   "source": [
    "workspace='D:/Codes/testing/Development-of-histologic-and-pathological-photographic-intellectualization-analysis-system/test'\n",
    "dataset=os.path.join(workspace,'dataset')\n",
    "sample_num=['0552','0556','1624','2415','3904','3934','4116','5155','5303','5901']\n",
    "target1=os.path.join(dataset,'Image_all_crop')\n",
    "target2=os.path.join(dataset,'Image_all_label')\n",
    "cnt=0\n",
    "for i in sample_num:\n",
    "    print(f'{i} 이미지')\n",
    "    crop_img_list=glob.glob(os.path.join(dataset,f'Image_crop/{i}_crop')+'/*.jpg')\n",
    "    label_img_list=glob.glob(os.path.join(dataset,f'Image_labeling/{i}_labeling')+'/*.jpg')\n",
    "    cnt+=1\n",
    "    The_Gleaners(crop_img_list,label_img_list,target1,target2,cnt)\n",
    "\n"
   ]
  }
 ],
 "metadata": {
  "interpreter": {
   "hash": "360884f287e03639c12f57aab9be3113adfb3972bf062aed102d7c9b700ff927"
  },
  "kernelspec": {
   "display_name": "conda",
   "language": "python",
   "name": "python3"
  },
  "language_info": {
   "codemirror_mode": {
    "name": "ipython",
    "version": 3
   },
   "file_extension": ".py",
   "mimetype": "text/x-python",
   "name": "python",
   "nbconvert_exporter": "python",
   "pygments_lexer": "ipython3",
   "version": "3.9.2"
  },
  "orig_nbformat": 4
 },
 "nbformat": 4,
 "nbformat_minor": 2
}
