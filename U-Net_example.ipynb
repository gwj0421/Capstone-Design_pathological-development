{
 "cells": [
  {
   "cell_type": "code",
   "execution_count": 126,
   "metadata": {},
   "outputs": [],
   "source": [
    "from __future__ import print_function\n",
    "from keras.preprocessing.image import ImageDataGenerator\n",
    "import numpy as np \n",
    "import os\n",
    "import glob\n",
    "import skimage.io as io\n",
    "import skimage.transform as trans\n",
    "\n",
    "from keras.models import *\n",
    "from keras.layers import *\n",
    "from keras.optimizers import *\n",
    "from keras.callbacks import ModelCheckpoint, LearningRateScheduler\n",
    "from keras import backend as keras\n",
    "import tensorflow as tf"
   ]
  },
  {
   "cell_type": "code",
   "execution_count": 140,
   "metadata": {},
   "outputs": [],
   "source": [
    "Background = [0,0,0]\n",
    "Cell = [255,255,255]\n",
    "COLOR_DICT = np.array([Cell])\n",
    "\n",
    "# Sky = [128,128,128]\n",
    "# Building = [128,0,0]\n",
    "# Pole = [192,192,128]\n",
    "# Road = [128,64,128]\n",
    "# Pavement = [60,40,222]\n",
    "# Tree = [128,128,0]\n",
    "# SignSymbol = [192,128,128]\n",
    "# Fence = [64,64,128]\n",
    "# Car = [64,0,128]\n",
    "# Pedestrian = [64,64,0]\n",
    "# Bicyclist = [0,128,192]\n",
    "# Unlabelled = [0,0,0]\n",
    "\n",
    "# COLOR_DICT = np.array([Sky, Building, Pole, Road, Pavement,\n",
    "#                           Tree, SignSymbol, Fence, Car, Pedestrian, Bicyclist, Unlabelled])"
   ]
  },
  {
   "cell_type": "code",
   "execution_count": 152,
   "metadata": {},
   "outputs": [],
   "source": [
    "def adjustData(img,mask,flag_multi_class,num_class):\n",
    "    if(flag_multi_class):\n",
    "        img = img / 255\n",
    "        mask = mask[:,:,:,0] if(len(mask.shape) == 4) else mask[:,:,0]\n",
    "        new_mask = np.zeros(mask.shape + (num_class,))\n",
    "        for i in range(num_class):\n",
    "            #for one pixel in the image, find the class in mask and convert it into one-hot vector\n",
    "            #index = np.where(mask == i)\n",
    "            #index_mask = (index[0],index[1],index[2],np.zeros(len(index[0]),dtype = np.int64) + i) if (len(mask.shape) == 4) else (index[0],index[1],np.zeros(len(index[0]),dtype = np.int64) + i)\n",
    "            #new_mask[index_mask] = 1\n",
    "            new_mask[mask == i,i] = 1\n",
    "        new_mask = np.reshape(new_mask,(new_mask.shape[0],new_mask.shape[1]*new_mask.shape[2],new_mask.shape[3])) if flag_multi_class else np.reshape(new_mask,(new_mask.shape[0]*new_mask.shape[1],new_mask.shape[2]))\n",
    "        mask = new_mask\n",
    "    elif(np.max(img) > 1):\n",
    "        img = img / 255\n",
    "        mask = mask /255\n",
    "        mask[mask > 0.5] = 1\n",
    "        mask[mask <= 0.5] = 0\n",
    "    return (img,mask)\n",
    "\n",
    "\n",
    "\n",
    "def trainGenerator(batch_size,train_path,image_folder,mask_folder,aug_dict,image_color_mode = \"grayscale\",\n",
    "                    mask_color_mode = \"grayscale\",image_save_prefix  = \"image\",mask_save_prefix  = \"mask\",\n",
    "                    flag_multi_class = False,num_class = 2,save_to_dir = None,target_size = (256,256),seed = 1):\n",
    "    '''\n",
    "    can generate image and mask at the same time\n",
    "    use the same seed for image_datagen and mask_datagen to ensure the transformation for image and mask is the same\n",
    "    if you want to visualize the results of generator, set save_to_dir = \"your path\"\n",
    "    '''\n",
    "    image_datagen = ImageDataGenerator(**aug_dict)\n",
    "    mask_datagen = ImageDataGenerator(**aug_dict)\n",
    "    image_generator = image_datagen.flow_from_directory(\n",
    "        train_path,\n",
    "        classes = [image_folder],\n",
    "        class_mode = None,\n",
    "        color_mode = image_color_mode,\n",
    "        target_size = target_size,\n",
    "        batch_size = batch_size,\n",
    "        save_to_dir = save_to_dir,\n",
    "        save_prefix  = image_save_prefix,\n",
    "        seed = seed)\n",
    "    mask_generator = mask_datagen.flow_from_directory(\n",
    "        train_path,\n",
    "        classes = [mask_folder],\n",
    "        class_mode = None,\n",
    "        color_mode = mask_color_mode,\n",
    "        target_size = target_size,\n",
    "        batch_size = batch_size,\n",
    "        save_to_dir = save_to_dir,\n",
    "        save_prefix  = mask_save_prefix,\n",
    "        seed = seed)\n",
    "    train_generator = zip(image_generator, mask_generator)\n",
    "    for (img,mask) in train_generator:\n",
    "        img,mask = adjustData(img,mask,flag_multi_class,num_class)\n",
    "        yield (img,mask)\n",
    "\n",
    "\n",
    "\n",
    "def testGenerator(test_path,num_image = 30,target_size = (256,256),flag_multi_class = False,as_gray = True):\n",
    "    for i in range(num_image):\n",
    "        img = io.imread(os.path.join(test_path,\"%d.jpg\"%i),as_gray = as_gray)\n",
    "        img = img / 255\n",
    "        img = trans.resize(img,target_size)\n",
    "        img = np.reshape(img,img.shape+(1,)) if (not flag_multi_class) else img\n",
    "        img = np.reshape(img,(1,)+img.shape)\n",
    "        yield img\n",
    "\n",
    "\n",
    "def geneTrainNpy(image_path,mask_path,flag_multi_class = False,num_class = 2,image_prefix = \"image\",mask_prefix = \"mask\",image_as_gray = True,mask_as_gray = True):\n",
    "    image_name_arr = glob.glob(os.path.join(image_path,\"%s*.jpg\"%image_prefix))\n",
    "    image_arr = []\n",
    "    mask_arr = []\n",
    "    for index,item in enumerate(image_name_arr):\n",
    "        img = io.imread(item,as_gray = image_as_gray)\n",
    "        img = np.reshape(img,img.shape + (1,)) if image_as_gray else img\n",
    "        mask = io.imread(item.replace(image_path,mask_path).replace(image_prefix,mask_prefix),as_gray = mask_as_gray)\n",
    "        mask = np.reshape(mask,mask.shape + (1,)) if mask_as_gray else mask\n",
    "        img,mask = adjustData(img,mask,flag_multi_class,num_class)\n",
    "        image_arr.append(img)\n",
    "        mask_arr.append(mask)\n",
    "    image_arr = np.array(image_arr)\n",
    "    mask_arr = np.array(mask_arr)\n",
    "    return image_arr,mask_arr\n",
    "\n",
    "\n",
    "def labelVisualize(num_class,color_dict,img):\n",
    "    img = img[:,:,0] if len(img.shape) == 3 else img\n",
    "    img_out = np.zeros(img.shape + (3,))\n",
    "    for i in range(num_class):\n",
    "        img_out[img == i,:] = color_dict[i]\n",
    "    return img_out / 255\n",
    "\n",
    "\n",
    "\n",
    "def saveResult(save_path,npyfile,flag_multi_class = False,num_class = 2):\n",
    "    for i,item in enumerate(npyfile):\n",
    "        img = labelVisualize(num_class,COLOR_DICT,item) if flag_multi_class else item[:,:,0]\n",
    "        io.imsave(os.path.join(save_path,\"%d_predict.jpg\"%i),img)"
   ]
  },
  {
   "cell_type": "code",
   "execution_count": 143,
   "metadata": {},
   "outputs": [],
   "source": [
    "base_dir='D:/Codes/testing/Development-of-histologic-and-pathological-photographic-intellectualization-analysis-system/test'\n",
    "#base_dir='D:/unet-dataset/data/membrane'\n",
    "train_dir=os.path.join(base_dir,'train')\n",
    "train_img_dir=os.path.join(train_dir,'image')\n",
    "train_aug_dir=os.path.join(train_dir,'aug')\n",
    "train_label_dir=os.path.join(train_dir,'label')"
   ]
  },
  {
   "cell_type": "code",
   "execution_count": 144,
   "metadata": {},
   "outputs": [],
   "source": [
    "data_gen_args = dict(rotation_range=0.2,\n",
    "                    width_shift_range=0.05,\n",
    "                    height_shift_range=0.05,\n",
    "                    shear_range=0.05,\n",
    "                    zoom_range=0.05,\n",
    "                    horizontal_flip=True,\n",
    "                    fill_mode='nearest')\n",
    "myGenerator = trainGenerator(20,train_dir,'image','label',data_gen_args,save_to_dir = train_aug_dir)\n"
   ]
  },
  {
   "cell_type": "code",
   "execution_count": 145,
   "metadata": {},
   "outputs": [
    {
     "name": "stdout",
     "output_type": "stream",
     "text": [
      "Found 434 images belonging to 1 classes.\n",
      "Found 434 images belonging to 1 classes.\n"
     ]
    }
   ],
   "source": [
    "#you will see 60 transformed images and their masks in data/membrane/train/aug\n",
    "num_batch = 3\n",
    "for i,batch in enumerate(myGenerator):\n",
    "    if(i >= num_batch):\n",
    "        break"
   ]
  },
  {
   "cell_type": "code",
   "execution_count": 146,
   "metadata": {},
   "outputs": [],
   "source": [
    "image_arr,mask_arr = geneTrainNpy(train_aug_dir,train_aug_dir)"
   ]
  },
  {
   "cell_type": "code",
   "execution_count": 147,
   "metadata": {},
   "outputs": [],
   "source": [
    "def unet(pretrained_weights = None,input_size = (256,256,1)):\n",
    "    inputs = Input(input_size)\n",
    "    conv1 = Conv2D(64, 3, activation = 'relu', padding = 'same', kernel_initializer = 'he_normal')(inputs)\n",
    "    conv1 = Conv2D(64, 3, activation = 'relu', padding = 'same', kernel_initializer = 'he_normal')(conv1)\n",
    "    pool1 = MaxPooling2D(pool_size=(2, 2))(conv1)\n",
    "    conv2 = Conv2D(128, 3, activation = 'relu', padding = 'same', kernel_initializer = 'he_normal')(pool1)\n",
    "    conv2 = Conv2D(128, 3, activation = 'relu', padding = 'same', kernel_initializer = 'he_normal')(conv2)\n",
    "    pool2 = MaxPooling2D(pool_size=(2, 2))(conv2)\n",
    "    conv3 = Conv2D(256, 3, activation = 'relu', padding = 'same', kernel_initializer = 'he_normal')(pool2)\n",
    "    conv3 = Conv2D(256, 3, activation = 'relu', padding = 'same', kernel_initializer = 'he_normal')(conv3)\n",
    "    pool3 = MaxPooling2D(pool_size=(2, 2))(conv3)\n",
    "    conv4 = Conv2D(512, 3, activation = 'relu', padding = 'same', kernel_initializer = 'he_normal')(pool3)\n",
    "    conv4 = Conv2D(512, 3, activation = 'relu', padding = 'same', kernel_initializer = 'he_normal')(conv4)\n",
    "    drop4 = Dropout(0.5)(conv4)\n",
    "    pool4 = MaxPooling2D(pool_size=(2, 2))(drop4)\n",
    "\n",
    "    conv5 = Conv2D(1024, 3, activation = 'relu', padding = 'same', kernel_initializer = 'he_normal')(pool4)\n",
    "    conv5 = Conv2D(1024, 3, activation = 'relu', padding = 'same', kernel_initializer = 'he_normal')(conv5)\n",
    "    drop5 = Dropout(0.5)(conv5)\n",
    "\n",
    "    up6 = Conv2D(512, 2, activation = 'relu', padding = 'same', kernel_initializer = 'he_normal')(UpSampling2D(size = (2,2))(drop5))\n",
    "    merge6 = concatenate([drop4,up6], axis = 3)\n",
    "    conv6 = Conv2D(512, 3, activation = 'relu', padding = 'same', kernel_initializer = 'he_normal')(merge6)\n",
    "    conv6 = Conv2D(512, 3, activation = 'relu', padding = 'same', kernel_initializer = 'he_normal')(conv6)\n",
    "\n",
    "    up7 = Conv2D(256, 2, activation = 'relu', padding = 'same', kernel_initializer = 'he_normal')(UpSampling2D(size = (2,2))(conv6))\n",
    "    merge7 = concatenate([conv3,up7], axis = 3)\n",
    "    conv7 = Conv2D(256, 3, activation = 'relu', padding = 'same', kernel_initializer = 'he_normal')(merge7)\n",
    "    conv7 = Conv2D(256, 3, activation = 'relu', padding = 'same', kernel_initializer = 'he_normal')(conv7)\n",
    "\n",
    "    up8 = Conv2D(128, 2, activation = 'relu', padding = 'same', kernel_initializer = 'he_normal')(UpSampling2D(size = (2,2))(conv7))\n",
    "    merge8 = concatenate([conv2,up8], axis = 3)\n",
    "    conv8 = Conv2D(128, 3, activation = 'relu', padding = 'same', kernel_initializer = 'he_normal')(merge8)\n",
    "    conv8 = Conv2D(128, 3, activation = 'relu', padding = 'same', kernel_initializer = 'he_normal')(conv8)\n",
    "\n",
    "    up9 = Conv2D(64, 2, activation = 'relu', padding = 'same', kernel_initializer = 'he_normal')(UpSampling2D(size = (2,2))(conv8))\n",
    "    merge9 = concatenate([conv1,up9], axis = 3)\n",
    "    conv9 = Conv2D(64, 3, activation = 'relu', padding = 'same', kernel_initializer = 'he_normal')(merge9)\n",
    "    conv9 = Conv2D(64, 3, activation = 'relu', padding = 'same', kernel_initializer = 'he_normal')(conv9)\n",
    "    conv9 = Conv2D(2, 3, activation = 'relu', padding = 'same', kernel_initializer = 'he_normal')(conv9)\n",
    "    conv10 = Conv2D(1, 1, activation = 'sigmoid')(conv9)\n",
    "\n",
    "    model = Model(inputs,conv10)\n",
    "\n",
    "    model.compile(optimizer = tf.keras.optimizers.Adam(lr = 1e-4), loss = 'binary_crossentropy', metrics = ['accuracy'])\n",
    "    \n",
    "    #model.summary()\n",
    "\n",
    "    if(pretrained_weights):\n",
    "        model.load_weights(pretrained_weights)\n",
    "\n",
    "    return model\n"
   ]
  },
  {
   "cell_type": "code",
   "execution_count": 148,
   "metadata": {},
   "outputs": [
    {
     "name": "stdout",
     "output_type": "stream",
     "text": [
      "Found 434 images belonging to 1 classes.\n",
      "Found 434 images belonging to 1 classes.\n",
      "Epoch 1/2\n"
     ]
    },
    {
     "name": "stderr",
     "output_type": "stream",
     "text": [
      "C:\\Users\\JoGunWoong\\AppData\\Local\\Temp\\ipykernel_22600\\1214317560.py:11: UserWarning: `Model.fit_generator` is deprecated and will be removed in a future version. Please use `Model.fit`, which supports generators.\n",
      "  model.fit_generator(myGene,steps_per_epoch=20,epochs=2,callbacks=[model_checkpoint])\n"
     ]
    },
    {
     "name": "stdout",
     "output_type": "stream",
     "text": [
      "20/20 [==============================] - ETA: 0s - loss: 0.1694 - accuracy: 0.9445\n",
      "Epoch 1: loss improved from inf to 0.16940, saving model to D:/Codes/testing/Development-of-histologic-and-pathological-photographic-intellectualization-analysis-system/test\\unet_membrane.hdf5\n",
      "20/20 [==============================] - 102s 5s/step - loss: 0.1694 - accuracy: 0.9445\n",
      "Epoch 2/2\n",
      "20/20 [==============================] - ETA: 0s - loss: 0.1444 - accuracy: 0.9546\n",
      "Epoch 2: loss improved from 0.16940 to 0.14441, saving model to D:/Codes/testing/Development-of-histologic-and-pathological-photographic-intellectualization-analysis-system/test\\unet_membrane.hdf5\n",
      "20/20 [==============================] - 103s 5s/step - loss: 0.1444 - accuracy: 0.9546\n"
     ]
    },
    {
     "data": {
      "text/plain": [
       "<keras.callbacks.History at 0x2309f6debe0>"
      ]
     },
     "execution_count": 148,
     "metadata": {},
     "output_type": "execute_result"
    }
   ],
   "source": [
    "data_gen_args = dict(rotation_range=0.2,\n",
    "                    width_shift_range=0.05,\n",
    "                    height_shift_range=0.05,\n",
    "                    shear_range=0.05,\n",
    "                    zoom_range=0.05,\n",
    "                    horizontal_flip=True,\n",
    "                    fill_mode='nearest')\n",
    "myGene = trainGenerator(3,train_dir,'image','label',data_gen_args,save_to_dir = None)\n",
    "model = unet()\n",
    "model_checkpoint = ModelCheckpoint(os.path.join(base_dir,'unet_membrane.hdf5'), monitor='loss',verbose=1, save_best_only=True)\n",
    "model.fit_generator(myGene,steps_per_epoch=20,epochs=2,callbacks=[model_checkpoint])"
   ]
  },
  {
   "cell_type": "code",
   "execution_count": null,
   "metadata": {},
   "outputs": [],
   "source": [
    "#imgs_train,imgs_mask_train = geneTrainNpy(\"data/membrane/train/aug/\",\"data/membrane/train/aug/\")\n",
    "#model.fit(imgs_train, imgs_mask_train, batch_size=2, nb_epoch=10, verbose=1,validation_split=0.2, shuffle=True, callbacks=[model_checkpoint])"
   ]
  },
  {
   "cell_type": "code",
   "execution_count": 156,
   "metadata": {},
   "outputs": [],
   "source": [
    "test_dir=os.path.join(base_dir,'test')\n",
    "test_img_dir=os.path.join(test_dir,'image')\n",
    "test_pred_dir=os.path.join(test_dir,'Pred')\n",
    "test_label_dir=os.path.join(test_dir,'Ground_truth')"
   ]
  },
  {
   "cell_type": "code",
   "execution_count": 157,
   "metadata": {},
   "outputs": [
    {
     "name": "stderr",
     "output_type": "stream",
     "text": [
      "C:\\Users\\JoGunWoong\\AppData\\Local\\Temp\\ipykernel_22600\\1907238321.py:4: UserWarning: `Model.predict_generator` is deprecated and will be removed in a future version. Please use `Model.predict`, which supports generators.\n",
      "  results = model.predict_generator(testGene,143,verbose=1)\n"
     ]
    },
    {
     "name": "stdout",
     "output_type": "stream",
     "text": [
      " 30/143 [=====>........................] - ETA: 38sWARNING:tensorflow:Your input ran out of data; interrupting training. Make sure that your dataset or generator can generate at least `steps_per_epoch * epochs` batches (in this case, 143 batches). You may need to use the repeat() function when building your dataset.\n",
      "143/143 [==============================] - 10s 70ms/step\n"
     ]
    },
    {
     "name": "stderr",
     "output_type": "stream",
     "text": [
      "C:\\Users\\JoGunWoong\\AppData\\Local\\Temp\\ipykernel_22600\\98234904.py:99: UserWarning: D:/Codes/testing/Development-of-histologic-and-pathological-photographic-intellectualization-analysis-system/test\\test\\Pred\\0_predict.jpg is a low contrast image\n",
      "  io.imsave(os.path.join(save_path,\"%d_predict.jpg\"%i),img)\n",
      "Lossy conversion from float32 to uint8. Range [0, 1]. Convert image to uint8 prior to saving to suppress this warning.\n",
      "C:\\Users\\JoGunWoong\\AppData\\Local\\Temp\\ipykernel_22600\\98234904.py:99: UserWarning: D:/Codes/testing/Development-of-histologic-and-pathological-photographic-intellectualization-analysis-system/test\\test\\Pred\\1_predict.jpg is a low contrast image\n",
      "  io.imsave(os.path.join(save_path,\"%d_predict.jpg\"%i),img)\n",
      "Lossy conversion from float32 to uint8. Range [0, 1]. Convert image to uint8 prior to saving to suppress this warning.\n",
      "C:\\Users\\JoGunWoong\\AppData\\Local\\Temp\\ipykernel_22600\\98234904.py:99: UserWarning: D:/Codes/testing/Development-of-histologic-and-pathological-photographic-intellectualization-analysis-system/test\\test\\Pred\\2_predict.jpg is a low contrast image\n",
      "  io.imsave(os.path.join(save_path,\"%d_predict.jpg\"%i),img)\n",
      "Lossy conversion from float32 to uint8. Range [0, 1]. Convert image to uint8 prior to saving to suppress this warning.\n",
      "C:\\Users\\JoGunWoong\\AppData\\Local\\Temp\\ipykernel_22600\\98234904.py:99: UserWarning: D:/Codes/testing/Development-of-histologic-and-pathological-photographic-intellectualization-analysis-system/test\\test\\Pred\\3_predict.jpg is a low contrast image\n",
      "  io.imsave(os.path.join(save_path,\"%d_predict.jpg\"%i),img)\n",
      "Lossy conversion from float32 to uint8. Range [0, 1]. Convert image to uint8 prior to saving to suppress this warning.\n",
      "C:\\Users\\JoGunWoong\\AppData\\Local\\Temp\\ipykernel_22600\\98234904.py:99: UserWarning: D:/Codes/testing/Development-of-histologic-and-pathological-photographic-intellectualization-analysis-system/test\\test\\Pred\\4_predict.jpg is a low contrast image\n",
      "  io.imsave(os.path.join(save_path,\"%d_predict.jpg\"%i),img)\n",
      "Lossy conversion from float32 to uint8. Range [0, 1]. Convert image to uint8 prior to saving to suppress this warning.\n",
      "C:\\Users\\JoGunWoong\\AppData\\Local\\Temp\\ipykernel_22600\\98234904.py:99: UserWarning: D:/Codes/testing/Development-of-histologic-and-pathological-photographic-intellectualization-analysis-system/test\\test\\Pred\\5_predict.jpg is a low contrast image\n",
      "  io.imsave(os.path.join(save_path,\"%d_predict.jpg\"%i),img)\n",
      "Lossy conversion from float32 to uint8. Range [0, 1]. Convert image to uint8 prior to saving to suppress this warning.\n",
      "C:\\Users\\JoGunWoong\\AppData\\Local\\Temp\\ipykernel_22600\\98234904.py:99: UserWarning: D:/Codes/testing/Development-of-histologic-and-pathological-photographic-intellectualization-analysis-system/test\\test\\Pred\\6_predict.jpg is a low contrast image\n",
      "  io.imsave(os.path.join(save_path,\"%d_predict.jpg\"%i),img)\n",
      "Lossy conversion from float32 to uint8. Range [0, 1]. Convert image to uint8 prior to saving to suppress this warning.\n",
      "C:\\Users\\JoGunWoong\\AppData\\Local\\Temp\\ipykernel_22600\\98234904.py:99: UserWarning: D:/Codes/testing/Development-of-histologic-and-pathological-photographic-intellectualization-analysis-system/test\\test\\Pred\\7_predict.jpg is a low contrast image\n",
      "  io.imsave(os.path.join(save_path,\"%d_predict.jpg\"%i),img)\n",
      "Lossy conversion from float32 to uint8. Range [0, 1]. Convert image to uint8 prior to saving to suppress this warning.\n",
      "C:\\Users\\JoGunWoong\\AppData\\Local\\Temp\\ipykernel_22600\\98234904.py:99: UserWarning: D:/Codes/testing/Development-of-histologic-and-pathological-photographic-intellectualization-analysis-system/test\\test\\Pred\\8_predict.jpg is a low contrast image\n",
      "  io.imsave(os.path.join(save_path,\"%d_predict.jpg\"%i),img)\n",
      "Lossy conversion from float32 to uint8. Range [0, 1]. Convert image to uint8 prior to saving to suppress this warning.\n",
      "C:\\Users\\JoGunWoong\\AppData\\Local\\Temp\\ipykernel_22600\\98234904.py:99: UserWarning: D:/Codes/testing/Development-of-histologic-and-pathological-photographic-intellectualization-analysis-system/test\\test\\Pred\\9_predict.jpg is a low contrast image\n",
      "  io.imsave(os.path.join(save_path,\"%d_predict.jpg\"%i),img)\n",
      "Lossy conversion from float32 to uint8. Range [0, 1]. Convert image to uint8 prior to saving to suppress this warning.\n",
      "C:\\Users\\JoGunWoong\\AppData\\Local\\Temp\\ipykernel_22600\\98234904.py:99: UserWarning: D:/Codes/testing/Development-of-histologic-and-pathological-photographic-intellectualization-analysis-system/test\\test\\Pred\\10_predict.jpg is a low contrast image\n",
      "  io.imsave(os.path.join(save_path,\"%d_predict.jpg\"%i),img)\n",
      "Lossy conversion from float32 to uint8. Range [0, 1]. Convert image to uint8 prior to saving to suppress this warning.\n",
      "C:\\Users\\JoGunWoong\\AppData\\Local\\Temp\\ipykernel_22600\\98234904.py:99: UserWarning: D:/Codes/testing/Development-of-histologic-and-pathological-photographic-intellectualization-analysis-system/test\\test\\Pred\\11_predict.jpg is a low contrast image\n",
      "  io.imsave(os.path.join(save_path,\"%d_predict.jpg\"%i),img)\n",
      "Lossy conversion from float32 to uint8. Range [0, 1]. Convert image to uint8 prior to saving to suppress this warning.\n",
      "C:\\Users\\JoGunWoong\\AppData\\Local\\Temp\\ipykernel_22600\\98234904.py:99: UserWarning: D:/Codes/testing/Development-of-histologic-and-pathological-photographic-intellectualization-analysis-system/test\\test\\Pred\\12_predict.jpg is a low contrast image\n",
      "  io.imsave(os.path.join(save_path,\"%d_predict.jpg\"%i),img)\n",
      "Lossy conversion from float32 to uint8. Range [0, 1]. Convert image to uint8 prior to saving to suppress this warning.\n",
      "C:\\Users\\JoGunWoong\\AppData\\Local\\Temp\\ipykernel_22600\\98234904.py:99: UserWarning: D:/Codes/testing/Development-of-histologic-and-pathological-photographic-intellectualization-analysis-system/test\\test\\Pred\\13_predict.jpg is a low contrast image\n",
      "  io.imsave(os.path.join(save_path,\"%d_predict.jpg\"%i),img)\n",
      "Lossy conversion from float32 to uint8. Range [0, 1]. Convert image to uint8 prior to saving to suppress this warning.\n",
      "C:\\Users\\JoGunWoong\\AppData\\Local\\Temp\\ipykernel_22600\\98234904.py:99: UserWarning: D:/Codes/testing/Development-of-histologic-and-pathological-photographic-intellectualization-analysis-system/test\\test\\Pred\\14_predict.jpg is a low contrast image\n",
      "  io.imsave(os.path.join(save_path,\"%d_predict.jpg\"%i),img)\n",
      "Lossy conversion from float32 to uint8. Range [0, 1]. Convert image to uint8 prior to saving to suppress this warning.\n",
      "C:\\Users\\JoGunWoong\\AppData\\Local\\Temp\\ipykernel_22600\\98234904.py:99: UserWarning: D:/Codes/testing/Development-of-histologic-and-pathological-photographic-intellectualization-analysis-system/test\\test\\Pred\\15_predict.jpg is a low contrast image\n",
      "  io.imsave(os.path.join(save_path,\"%d_predict.jpg\"%i),img)\n",
      "Lossy conversion from float32 to uint8. Range [0, 1]. Convert image to uint8 prior to saving to suppress this warning.\n",
      "C:\\Users\\JoGunWoong\\AppData\\Local\\Temp\\ipykernel_22600\\98234904.py:99: UserWarning: D:/Codes/testing/Development-of-histologic-and-pathological-photographic-intellectualization-analysis-system/test\\test\\Pred\\16_predict.jpg is a low contrast image\n",
      "  io.imsave(os.path.join(save_path,\"%d_predict.jpg\"%i),img)\n",
      "Lossy conversion from float32 to uint8. Range [0, 1]. Convert image to uint8 prior to saving to suppress this warning.\n",
      "C:\\Users\\JoGunWoong\\AppData\\Local\\Temp\\ipykernel_22600\\98234904.py:99: UserWarning: D:/Codes/testing/Development-of-histologic-and-pathological-photographic-intellectualization-analysis-system/test\\test\\Pred\\17_predict.jpg is a low contrast image\n",
      "  io.imsave(os.path.join(save_path,\"%d_predict.jpg\"%i),img)\n",
      "Lossy conversion from float32 to uint8. Range [0, 1]. Convert image to uint8 prior to saving to suppress this warning.\n",
      "C:\\Users\\JoGunWoong\\AppData\\Local\\Temp\\ipykernel_22600\\98234904.py:99: UserWarning: D:/Codes/testing/Development-of-histologic-and-pathological-photographic-intellectualization-analysis-system/test\\test\\Pred\\18_predict.jpg is a low contrast image\n",
      "  io.imsave(os.path.join(save_path,\"%d_predict.jpg\"%i),img)\n",
      "Lossy conversion from float32 to uint8. Range [0, 1]. Convert image to uint8 prior to saving to suppress this warning.\n",
      "C:\\Users\\JoGunWoong\\AppData\\Local\\Temp\\ipykernel_22600\\98234904.py:99: UserWarning: D:/Codes/testing/Development-of-histologic-and-pathological-photographic-intellectualization-analysis-system/test\\test\\Pred\\19_predict.jpg is a low contrast image\n",
      "  io.imsave(os.path.join(save_path,\"%d_predict.jpg\"%i),img)\n",
      "Lossy conversion from float32 to uint8. Range [0, 1]. Convert image to uint8 prior to saving to suppress this warning.\n",
      "C:\\Users\\JoGunWoong\\AppData\\Local\\Temp\\ipykernel_22600\\98234904.py:99: UserWarning: D:/Codes/testing/Development-of-histologic-and-pathological-photographic-intellectualization-analysis-system/test\\test\\Pred\\20_predict.jpg is a low contrast image\n",
      "  io.imsave(os.path.join(save_path,\"%d_predict.jpg\"%i),img)\n",
      "Lossy conversion from float32 to uint8. Range [0, 1]. Convert image to uint8 prior to saving to suppress this warning.\n",
      "C:\\Users\\JoGunWoong\\AppData\\Local\\Temp\\ipykernel_22600\\98234904.py:99: UserWarning: D:/Codes/testing/Development-of-histologic-and-pathological-photographic-intellectualization-analysis-system/test\\test\\Pred\\21_predict.jpg is a low contrast image\n",
      "  io.imsave(os.path.join(save_path,\"%d_predict.jpg\"%i),img)\n",
      "Lossy conversion from float32 to uint8. Range [0, 1]. Convert image to uint8 prior to saving to suppress this warning.\n",
      "C:\\Users\\JoGunWoong\\AppData\\Local\\Temp\\ipykernel_22600\\98234904.py:99: UserWarning: D:/Codes/testing/Development-of-histologic-and-pathological-photographic-intellectualization-analysis-system/test\\test\\Pred\\22_predict.jpg is a low contrast image\n",
      "  io.imsave(os.path.join(save_path,\"%d_predict.jpg\"%i),img)\n",
      "Lossy conversion from float32 to uint8. Range [0, 1]. Convert image to uint8 prior to saving to suppress this warning.\n",
      "C:\\Users\\JoGunWoong\\AppData\\Local\\Temp\\ipykernel_22600\\98234904.py:99: UserWarning: D:/Codes/testing/Development-of-histologic-and-pathological-photographic-intellectualization-analysis-system/test\\test\\Pred\\23_predict.jpg is a low contrast image\n",
      "  io.imsave(os.path.join(save_path,\"%d_predict.jpg\"%i),img)\n",
      "Lossy conversion from float32 to uint8. Range [0, 1]. Convert image to uint8 prior to saving to suppress this warning.\n",
      "C:\\Users\\JoGunWoong\\AppData\\Local\\Temp\\ipykernel_22600\\98234904.py:99: UserWarning: D:/Codes/testing/Development-of-histologic-and-pathological-photographic-intellectualization-analysis-system/test\\test\\Pred\\24_predict.jpg is a low contrast image\n",
      "  io.imsave(os.path.join(save_path,\"%d_predict.jpg\"%i),img)\n",
      "Lossy conversion from float32 to uint8. Range [0, 1]. Convert image to uint8 prior to saving to suppress this warning.\n",
      "C:\\Users\\JoGunWoong\\AppData\\Local\\Temp\\ipykernel_22600\\98234904.py:99: UserWarning: D:/Codes/testing/Development-of-histologic-and-pathological-photographic-intellectualization-analysis-system/test\\test\\Pred\\25_predict.jpg is a low contrast image\n",
      "  io.imsave(os.path.join(save_path,\"%d_predict.jpg\"%i),img)\n",
      "Lossy conversion from float32 to uint8. Range [0, 1]. Convert image to uint8 prior to saving to suppress this warning.\n",
      "C:\\Users\\JoGunWoong\\AppData\\Local\\Temp\\ipykernel_22600\\98234904.py:99: UserWarning: D:/Codes/testing/Development-of-histologic-and-pathological-photographic-intellectualization-analysis-system/test\\test\\Pred\\26_predict.jpg is a low contrast image\n",
      "  io.imsave(os.path.join(save_path,\"%d_predict.jpg\"%i),img)\n",
      "Lossy conversion from float32 to uint8. Range [0, 1]. Convert image to uint8 prior to saving to suppress this warning.\n",
      "C:\\Users\\JoGunWoong\\AppData\\Local\\Temp\\ipykernel_22600\\98234904.py:99: UserWarning: D:/Codes/testing/Development-of-histologic-and-pathological-photographic-intellectualization-analysis-system/test\\test\\Pred\\27_predict.jpg is a low contrast image\n",
      "  io.imsave(os.path.join(save_path,\"%d_predict.jpg\"%i),img)\n",
      "Lossy conversion from float32 to uint8. Range [0, 1]. Convert image to uint8 prior to saving to suppress this warning.\n",
      "C:\\Users\\JoGunWoong\\AppData\\Local\\Temp\\ipykernel_22600\\98234904.py:99: UserWarning: D:/Codes/testing/Development-of-histologic-and-pathological-photographic-intellectualization-analysis-system/test\\test\\Pred\\28_predict.jpg is a low contrast image\n",
      "  io.imsave(os.path.join(save_path,\"%d_predict.jpg\"%i),img)\n",
      "Lossy conversion from float32 to uint8. Range [0, 1]. Convert image to uint8 prior to saving to suppress this warning.\n",
      "C:\\Users\\JoGunWoong\\AppData\\Local\\Temp\\ipykernel_22600\\98234904.py:99: UserWarning: D:/Codes/testing/Development-of-histologic-and-pathological-photographic-intellectualization-analysis-system/test\\test\\Pred\\29_predict.jpg is a low contrast image\n",
      "  io.imsave(os.path.join(save_path,\"%d_predict.jpg\"%i),img)\n",
      "Lossy conversion from float32 to uint8. Range [0, 1]. Convert image to uint8 prior to saving to suppress this warning.\n"
     ]
    }
   ],
   "source": [
    "testGene = testGenerator(test_img_dir)\n",
    "model = unet()\n",
    "model.load_weights(os.path.join(base_dir,'unet_membrane.hdf5'))\n",
    "results = model.predict_generator(testGene,143,verbose=1)\n",
    "saveResult(test_pred_dir,results)\n"
   ]
  },
  {
   "cell_type": "code",
   "execution_count": null,
   "metadata": {},
   "outputs": [
    {
     "name": "stderr",
     "output_type": "stream",
     "text": [
      "C:\\Users\\JoGunWoong\\AppData\\Local\\Temp\\ipykernel_22600\\3917556382.py:1: UserWarning: `Model.evaluate_generator` is deprecated and will be removed in a future version. Please use `Model.evaluate`, which supports generators.\n",
      "  scores = model.evaluate_generator(myGene, steps=5)\n"
     ]
    },
    {
     "name": "stdout",
     "output_type": "stream",
     "text": [
      "accuracy: 94.49%\n"
     ]
    }
   ],
   "source": [
    "scores = model.evaluate_generator(myGene, steps=5)\n",
    "print(\"%s: %.2f%%\" %(model.metrics_names[1], scores[1]*100))"
   ]
  },
  {
   "cell_type": "code",
   "execution_count": null,
   "metadata": {},
   "outputs": [],
   "source": []
  }
 ],
 "metadata": {
  "interpreter": {
   "hash": "360884f287e03639c12f57aab9be3113adfb3972bf062aed102d7c9b700ff927"
  },
  "kernelspec": {
   "display_name": "Python 3.9.2 64-bit (system)",
   "language": "python",
   "name": "python3"
  },
  "language_info": {
   "codemirror_mode": {
    "name": "ipython",
    "version": 3
   },
   "file_extension": ".py",
   "mimetype": "text/x-python",
   "name": "python",
   "nbconvert_exporter": "python",
   "pygments_lexer": "ipython3",
   "version": "3.9.2"
  },
  "orig_nbformat": 4
 },
 "nbformat": 4,
 "nbformat_minor": 2
}
